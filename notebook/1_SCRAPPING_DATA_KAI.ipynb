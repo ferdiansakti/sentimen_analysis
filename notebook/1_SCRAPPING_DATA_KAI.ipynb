{
  "nbformat": 4,
  "nbformat_minor": 0,
  "metadata": {
    "colab": {
      "provenance": []
    },
    "kernelspec": {
      "name": "python3",
      "display_name": "Python 3"
    },
    "language_info": {
      "name": "python"
    }
  },
  "cells": [
    {
      "cell_type": "code",
      "execution_count": 1,
      "metadata": {
        "colab": {
          "base_uri": "https://localhost:8080/"
        },
        "id": "zi_Qqd1MNPhV",
        "outputId": "8f8cd740-90f1-4eb9-a4cb-afad93f80bae"
      },
      "outputs": [
        {
          "output_type": "stream",
          "name": "stdout",
          "text": [
            "\u001b[?25l     \u001b[90m━━━━━━━━━━━━━━━━━━━━━━━━━━━━━━━━━━━━━━━━\u001b[0m \u001b[32m0.0/50.2 kB\u001b[0m \u001b[31m?\u001b[0m eta \u001b[36m-:--:--\u001b[0m\r\u001b[2K     \u001b[90m━━━━━━━━━━━━━━━━━━━━━━━━━━━━━━━━━━━━━━━━\u001b[0m \u001b[32m50.2/50.2 kB\u001b[0m \u001b[31m1.7 MB/s\u001b[0m eta \u001b[36m0:00:00\u001b[0m\n",
            "\u001b[?25h"
          ]
        }
      ],
      "source": [
        "# Menginstall package yang diperlukan\n",
        "!pip install google-play-scraper -q"
      ]
    },
    {
      "cell_type": "code",
      "source": [
        "# Import library yang dibutuhkan\n",
        "from google_play_scraper import app, reviews, Sort\n",
        "import pandas as pd"
      ],
      "metadata": {
        "id": "CIsqNVtSN2oy"
      },
      "execution_count": 2,
      "outputs": []
    },
    {
      "cell_type": "code",
      "source": [
        "# Memulai proses scrapping\n",
        "kai_scrap = reviews(\n",
        "    'com.kai.kaiticketing',           # ID aplikasi\n",
        "    lang='id',                        # Bahasa ulasan (default: 'en')\n",
        "    country='id',                     # Negara (default: 'us')\n",
        "    sort=Sort.MOST_RELEVANT,          # Urutan ulasan (default: Sort.MOST_RELEVANT)\n",
        "    count=30000                       # Jumlah maksimum ulasan yang ingin diambil\n",
        ")[0]"
      ],
      "metadata": {
        "id": "e77YiD-JN8P5"
      },
      "execution_count": 3,
      "outputs": []
    },
    {
      "cell_type": "code",
      "source": [
        "# Menjadikan dalam bentuk dataframe\n",
        "df = pd.DataFrame(kai_scrap)"
      ],
      "metadata": {
        "id": "JN1LSxKrOY9D"
      },
      "execution_count": 4,
      "outputs": []
    },
    {
      "cell_type": "code",
      "source": [
        "# Ambil kolom isi ulasan dan rating\n",
        "df = df[['content', 'score']]"
      ],
      "metadata": {
        "id": "KbG8qJih_T-N"
      },
      "execution_count": 5,
      "outputs": []
    },
    {
      "cell_type": "code",
      "source": [
        "# Simpan kedalam bentuk file csv\n",
        "df.to_csv('hasil-scrapping-kai.csv', index=False)"
      ],
      "metadata": {
        "id": "Ht_2IfZqOegA"
      },
      "execution_count": 6,
      "outputs": []
    }
  ]
}
