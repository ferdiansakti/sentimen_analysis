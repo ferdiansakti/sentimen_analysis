{
  "nbformat": 4,
  "nbformat_minor": 0,
  "metadata": {
    "colab": {
      "provenance": []
    },
    "kernelspec": {
      "name": "python3",
      "display_name": "Python 3"
    },
    "language_info": {
      "name": "python"
    }
  },
  "cells": [
    {
      "cell_type": "markdown",
      "source": [
        "# **Inference Notebook untuk Sentimen Analysis dengan 3 Model**"
      ],
      "metadata": {
        "id": "6l6g6CsCiWwE"
      }
    },
    {
      "cell_type": "markdown",
      "source": [
        "# 1. Mengimpor library yang dibutuhkan"
      ],
      "metadata": {
        "id": "gdajhsbrnAKv"
      }
    },
    {
      "cell_type": "code",
      "source": [
        "import pickle\n",
        "import numpy as np\n",
        "from tensorflow.keras.models import load_model\n",
        "from tensorflow.keras.preprocessing.sequence import pad_sequences"
      ],
      "metadata": {
        "id": "j2eMECZbm9sk"
      },
      "execution_count": 22,
      "outputs": []
    },
    {
      "cell_type": "markdown",
      "source": [
        "# 2. Load semua model yang sudah ditraining sebelumnya"
      ],
      "metadata": {
        "id": "mr06TAGbiqa4"
      }
    },
    {
      "cell_type": "code",
      "source": [
        "# Load SVM model dan TF-IDF vectorizer\n",
        "with open('svm_model.pkl', 'rb') as f:\n",
        "    model_svm = pickle.load(f)\n",
        "\n",
        "with open('tfidf_vectorizer.pkl', 'rb') as f:\n",
        "    vectorizer = pickle.load(f)\n",
        "\n",
        "# Load LSTM model dan tokenizer\n",
        "model_lstm = load_model('lstm_wordembedding_model.keras')\n",
        "with open('lstm_tokenizer.pkl', 'rb') as f:\n",
        "    tokenizer_lstm = pickle.load(f)\n",
        "\n",
        "# Load CNN + LSTM model dan tokenizer\n",
        "model_cnn = load_model('cnn_lstm_model.keras')\n",
        "with open('cnn_lstm_tokenizer.pkl', 'rb') as f:\n",
        "    tokenizer_cnn_lstm = pickle.load(f)"
      ],
      "metadata": {
        "id": "r4AsKTJpigoo"
      },
      "execution_count": 23,
      "outputs": []
    },
    {
      "cell_type": "code",
      "source": [
        "# Mapping kelas agar mudah dibaca\n",
        "label_mapping = {0: \"negatif\", 1: \"netral\", 2: \"positif\"}"
      ],
      "metadata": {
        "id": "wpgFUD0ji-4U"
      },
      "execution_count": 24,
      "outputs": []
    },
    {
      "cell_type": "markdown",
      "source": [
        "# 3. Fungsi Inference untuk Tiap Model"
      ],
      "metadata": {
        "id": "yQ5P8LCWjUPM"
      }
    },
    {
      "cell_type": "code",
      "source": [
        "def predict_with_svm(text):\n",
        "    text_vectorized = vectorizer.transform([text])\n",
        "    prediction = model_svm.predict(text_vectorized)\n",
        "    return prediction[0]\n",
        "\n",
        "def predict_with_lstm(text, max_len=100):\n",
        "    seq = tokenizer_lstm.texts_to_sequences([text])\n",
        "    padded = pad_sequences(seq, maxlen=max_len)\n",
        "    pred = model_lstm.predict(padded)\n",
        "    return label_mapping[np.argmax(pred)]\n",
        "\n",
        "def predict_with_cnn_lstm(text, max_len=100):\n",
        "    seq = tokenizer_cnn_lstm.texts_to_sequences([text])\n",
        "    padded = pad_sequences(seq, maxlen=max_len)\n",
        "    pred = model_cnn.predict(padded)\n",
        "    return label_mapping[np.argmax(pred)]"
      ],
      "metadata": {
        "id": "ae89ARgfjEhC"
      },
      "execution_count": 25,
      "outputs": []
    },
    {
      "cell_type": "markdown",
      "source": [
        "# 4. Implementasi"
      ],
      "metadata": {
        "id": "jaAGT0vyjbHy"
      }
    },
    {
      "cell_type": "code",
      "source": [
        "input_text = \"aplikasinya bagus, good job\"\n",
        "\n",
        "print(\"=== PREDIKSI SENTIMEN ===\")\n",
        "print(\"Input:\", input_text)\n",
        "print(\"SVM:\", predict_with_svm(input_text))\n",
        "print(\"LSTM:\", predict_with_lstm(input_text))\n",
        "print(\"CNN+LSTM:\", predict_with_cnn_lstm(input_text))"
      ],
      "metadata": {
        "colab": {
          "base_uri": "https://localhost:8080/"
        },
        "id": "6RaS_jrUjKoG",
        "outputId": "74f68c56-2fd5-45a5-d1e0-087e7200940f"
      },
      "execution_count": 26,
      "outputs": [
        {
          "output_type": "stream",
          "name": "stdout",
          "text": [
            "=== PREDIKSI SENTIMEN ===\n",
            "Input: aplikasinya bagus, good job\n",
            "SVM: positif\n",
            "\u001b[1m1/1\u001b[0m \u001b[32m━━━━━━━━━━━━━━━━━━━━\u001b[0m\u001b[37m\u001b[0m \u001b[1m0s\u001b[0m 398ms/step\n",
            "LSTM: positif\n",
            "\u001b[1m1/1\u001b[0m \u001b[32m━━━━━━━━━━━━━━━━━━━━\u001b[0m\u001b[37m\u001b[0m \u001b[1m0s\u001b[0m 255ms/step\n",
            "CNN+LSTM: positif\n"
          ]
        }
      ]
    }
  ]
}